{
 "cells": [
  {
   "cell_type": "markdown",
   "metadata": {},
   "source": [
    "# Raster dataset example\n",
    "\n",
    "This notebook shows how to load and display a geo-registered raster dataset. Note that the display performance can be low for raster datasets that are loaded from the local filesystem. The basic display of local raster files involves many steps:\n",
    "\n",
    "1. The full dataset is first loaded into kernel memory.\n",
    "2. A png image is then generated from the dataset (because browsers can display png images).\n",
    "3. The png image is written to a temporary file as part of it construction (using GDAL).\n",
    "4. The png file is read back into the kernel and its binary contents are converted to a base64 string.\n",
    "5. The base64 string is then transmitted to the browser, where it is displayed.\n",
    "\n",
    "**Significantly better performance can be obtained for raster datasets hosted remotely on systems such as Girder with large-image plugin.** In that configuration, display is performed by retrieving small image tiles from the server based on the display's center and zoom.\n"
   ]
  },
  {
   "cell_type": "code",
   "execution_count": null,
   "metadata": {},
   "outputs": [],
   "source": [
    "import geolib"
   ]
  },
  {
   "cell_type": "code",
   "execution_count": 2,
   "metadata": {},
   "outputs": [],
   "source": [
    "import os\n",
    "path = os.path.expanduser('~/Dropbox/Kitware/SFBay_grayscale.tif')\n",
    "sfbay = geolib.create(path)"
   ]
  },
  {
   "cell_type": "code",
   "execution_count": 3,
   "metadata": {},
   "outputs": [
    {
     "data": {
      "application/vnd.jupyter.widget-view+json": {
       "model_id": "3364bfc7da7e40349e617c68ef6f5fdb",
       "version_major": 2,
       "version_minor": 0
      },
      "text/plain": [
       "scene(center={'y': 0.0, 'x': 0.0}, layout=Layout(align_self='stretch', height='400px'))"
      ]
     },
     "metadata": {},
     "output_type": "display_data"
    }
   ],
   "source": [
    "# print(sfbay.get_metadata())\n",
    "scene = geolib.show(sfbay)\n",
    "display(scene)"
   ]
  },
  {
   "cell_type": "code",
   "execution_count": 4,
   "metadata": {},
   "outputs": [
    {
     "data": {
      "application/vnd.jupyter.widget-view+json": {
       "model_id": "272847893293480386ec54c547f0eae8",
       "version_major": 2,
       "version_minor": 0
      },
      "text/plain": [
       "FloatSlider(value=9.328465, layout=Layout(width='95%'), max=16.0, min=1.0)"
      ]
     },
     "metadata": {},
     "output_type": "display_data"
    }
   ],
   "source": [
    "# Add a slider to adjust the scene's zoom\n",
    "\n",
    "import ipywidgets as widgets\n",
    "slider = widgets.FloatSlider(min=1, max=16, value=scene.zoom, layout=dict(width='95%'))\n",
    "newlink = widgets.jslink((slider, 'value'), (scene, 'zoom'))\n",
    "display(slider)"
   ]
  }
 ],
 "metadata": {
  "kernelspec": {
   "display_name": "Python 3",
   "language": "python",
   "name": "python3"
  },
  "language_info": {
   "codemirror_mode": {
    "name": "ipython",
    "version": 3
   },
   "file_extension": ".py",
   "mimetype": "text/x-python",
   "name": "python",
   "nbconvert_exporter": "python",
   "pygments_lexer": "ipython3",
   "version": "3.5.2"
  }
 },
 "nbformat": 4,
 "nbformat_minor": 2
}
